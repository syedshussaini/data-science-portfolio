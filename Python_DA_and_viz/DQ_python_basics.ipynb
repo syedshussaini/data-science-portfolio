{
 "cells": [
  {
   "cell_type": "markdown",
   "metadata": {},
   "source": [
    "# Profitable App Profiles for the App Store and Google Play Markets"
   ]
  },
  {
   "cell_type": "markdown",
   "metadata": {},
   "source": [
    "Our aim in this project is to find mobile app profiles that are profitable for the App Store and Google Play markets. We're working as data analysts for a company that builds Android and iOS mobile apps, and our job is to enable our team of developers to make data-driven decisions with respect to the kind of apps they build.\n",
    "\n",
    "At our company, we only build apps that are free to download and install, and our main source of revenue consists of in-app ads. This means that our revenue for any given app is mostly influenced by the number of users that use our app. Our goal for this project is to analyze data to help our developers understand what kinds of apps are likely to attract more users."
   ]
  },
  {
   "cell_type": "markdown",
   "metadata": {},
   "source": [
    "# Reading and Opening datasets"
   ]
  },
  {
   "cell_type": "code",
   "execution_count": 1,
   "metadata": {},
   "outputs": [],
   "source": [
    "from csv import reader\n",
    "\n",
    "### The Google Play data set ###\n",
    "opened_file = open('googleplaystore.csv')\n",
    "read_file = reader(opened_file)\n",
    "android = list(read_file)\n",
    "android_header = android[0]\n",
    "android = android[1:]\n",
    "\n",
    "### The IOS data set ###\n",
    "opened_file = open('AppleStore.csv')\n",
    "read_file = reader(opened_file)\n",
    "ios = list(read_file)\n",
    "ios_header = ios[0]\n",
    "ios = ios[1:]"
   ]
  },
  {
   "cell_type": "markdown",
   "metadata": {},
   "source": [
    "# Exploring Data"
   ]
  },
  {
   "cell_type": "code",
   "execution_count": 2,
   "metadata": {},
   "outputs": [
    {
     "name": "stdout",
     "output_type": "stream",
     "text": [
      "['App', 'Category', 'Rating', 'Reviews', 'Size', 'Installs', 'Type', 'Price', 'Content Rating', 'Genres', 'Last Updated', 'Current Ver', 'Android Ver']\n",
      "['Photo Editor & Candy Camera & Grid & ScrapBook', 'ART_AND_DESIGN', '4.1', '159', '19M', '10,000+', 'Free', '0', 'Everyone', 'Art & Design', 'January 7, 2018', '1.0.0', '4.0.3 and up']\n",
      "\n",
      "\n",
      "['Coloring book moana', 'ART_AND_DESIGN', '3.9', '967', '14M', '500,000+', 'Free', '0', 'Everyone', 'Art & Design;Pretend Play', 'January 15, 2018', '2.0.0', '4.0.3 and up']\n",
      "\n",
      "\n",
      "['U Launcher Lite – FREE Live Cool Themes, Hide Apps', 'ART_AND_DESIGN', '4.7', '87510', '8.7M', '5,000,000+', 'Free', '0', 'Everyone', 'Art & Design', 'August 1, 2018', '1.2.4', '4.0.3 and up']\n",
      "\n",
      "\n",
      "Number of rows:  10841\n",
      "Number of columns:  13\n"
     ]
    }
   ],
   "source": [
    "def explore_data(dataset, start, end, row_and_columns=False):\n",
    "    dataset_slice = dataset[start:end]\n",
    "    for row in dataset_slice:\n",
    "        print(row)\n",
    "        print('\\n')\n",
    "    \n",
    "    if row_and_columns:\n",
    "        print('Number of rows: ', len(dataset))\n",
    "        print('Number of columns: ', len(dataset[0]))\n",
    "        \n",
    "print(android_header)\n",
    "explore_data(android,0,3,True)"
   ]
  },
  {
   "cell_type": "code",
   "execution_count": 3,
   "metadata": {},
   "outputs": [
    {
     "name": "stdout",
     "output_type": "stream",
     "text": [
      "['id', 'track_name', 'size_bytes', 'currency', 'price', 'rating_count_tot', 'rating_count_ver', 'user_rating', 'user_rating_ver', 'ver', 'cont_rating', 'prime_genre', 'sup_devices.num', 'ipadSc_urls.num', 'lang.num', 'vpp_lic']\n",
      "['284882215', 'Facebook', '389879808', 'USD', '0.0', '2974676', '212', '3.5', '3.5', '95.0', '4+', 'Social Networking', '37', '1', '29', '1']\n",
      "\n",
      "\n",
      "['389801252', 'Instagram', '113954816', 'USD', '0.0', '2161558', '1289', '4.5', '4.0', '10.23', '12+', 'Photo & Video', '37', '0', '29', '1']\n",
      "\n",
      "\n",
      "['529479190', 'Clash of Clans', '116476928', 'USD', '0.0', '2130805', '579', '4.5', '4.5', '9.24.12', '9+', 'Games', '38', '5', '18', '1']\n",
      "\n",
      "\n",
      "Number of rows:  7197\n",
      "Number of columns:  16\n"
     ]
    }
   ],
   "source": [
    "print(ios_header)\n",
    "explore_data(ios, 0 , 3, True)"
   ]
  },
  {
   "cell_type": "markdown",
   "metadata": {},
   "source": [
    "# Cleaning data in both datasets"
   ]
  },
  {
   "cell_type": "code",
   "execution_count": 36,
   "metadata": {},
   "outputs": [
    {
     "name": "stdout",
     "output_type": "stream",
     "text": [
      "GooglePlay\n",
      "Duplicate Row found -  ['Life Made WI-Fi Touchscreen Photo Frame', '1.9', '19', '3.0M', '1,000+', 'Free', '0', 'Everyone', '', 'February 11, 2018', '1.0.19', '4.0 and up']\n",
      "Duplicate Row index -  10472\n",
      "ios\n"
     ]
    }
   ],
   "source": [
    "def detect_wrong_data(data_set, dataset_header):\n",
    "    for row in data_set:\n",
    "        if len(row) != len(dataset_header):\n",
    "            print('Duplicate Row found - ', row)\n",
    "            print('Duplicate Row index - ', android.index(row))\n",
    "\n",
    "### detecting incorrect Google Play data set ###\n",
    "print('GooglePlay')\n",
    "detect_wrong_data(android, android_header)\n",
    "\n",
    "print('ios')\n",
    "### detecting incorrect IOS data set ###    \n",
    "detect_wrong_data(ios, ios_header)\n"
   ]
  },
  {
   "cell_type": "code",
   "execution_count": 37,
   "metadata": {},
   "outputs": [],
   "source": [
    " del android[10472]  # don't run this more than once"
   ]
  },
  {
   "cell_type": "markdown",
   "metadata": {},
   "source": [
    "# Removing Duplicates Part I"
   ]
  },
  {
   "cell_type": "markdown",
   "metadata": {
    "collapsed": true
   },
   "source": [
    "In the last step, we started the data cleaning process and deleted a row with incorrect data from the Google Play data set. If you explore the Google Play data set long enough, you'll notice some apps have duplicate entries. For instance, Instagram has four entries:"
   ]
  },
  {
   "cell_type": "code",
   "execution_count": 6,
   "metadata": {},
   "outputs": [
    {
     "name": "stdout",
     "output_type": "stream",
     "text": [
      "['Instagram', 'SOCIAL', '4.5', '66577313', 'Varies with device', '1,000,000,000+', 'Free', '0', 'Teen', 'Social', 'July 31, 2018', 'Varies with device', 'Varies with device']\n",
      "['Instagram', 'SOCIAL', '4.5', '66577446', 'Varies with device', '1,000,000,000+', 'Free', '0', 'Teen', 'Social', 'July 31, 2018', 'Varies with device', 'Varies with device']\n",
      "['Instagram', 'SOCIAL', '4.5', '66577313', 'Varies with device', '1,000,000,000+', 'Free', '0', 'Teen', 'Social', 'July 31, 2018', 'Varies with device', 'Varies with device']\n",
      "['Instagram', 'SOCIAL', '4.5', '66509917', 'Varies with device', '1,000,000,000+', 'Free', '0', 'Teen', 'Social', 'July 31, 2018', 'Varies with device', 'Varies with device']\n"
     ]
    }
   ],
   "source": [
    "for app in android:\n",
    "    name = app[0]\n",
    "    if name == 'Instagram':\n",
    "        print(app)"
   ]
  },
  {
   "cell_type": "markdown",
   "metadata": {},
   "source": [
    "In total, there are 1,181 cases where an app occurs more than once:"
   ]
  },
  {
   "cell_type": "code",
   "execution_count": 20,
   "metadata": {},
   "outputs": [],
   "source": [
    "duplicate_apps = []\n",
    "unique_apps = []\n",
    "\n",
    "def find_duplicates(data_set):\n",
    "    for app in data_set:\n",
    "        name = app[0]\n",
    "        if name in unique_apps:\n",
    "            duplicate_apps.append(name)\n",
    "        else:\n",
    "            unique_apps.append(name)\n",
    "    print('Number of duplicate apps', len(duplicate_apps))\n",
    "    print('\\n')\n",
    "    print('Examples of duplicate apps', duplicate_apps[:11])"
   ]
  },
  {
   "cell_type": "markdown",
   "metadata": {},
   "source": [
    "Number of duplicates in Android & IOS (with some examples)"
   ]
  },
  {
   "cell_type": "code",
   "execution_count": 21,
   "metadata": {},
   "outputs": [
    {
     "name": "stdout",
     "output_type": "stream",
     "text": [
      "Android Duplicates\n",
      "Number of duplicate apps 1181\n",
      "\n",
      "\n",
      "Examples of duplicate apps ['Quick PDF Scanner + OCR FREE', 'Box', 'Google My Business', 'ZOOM Cloud Meetings', 'join.me - Simple Meetings', 'Box', 'Zenefits', 'Google Ads', 'Google My Business', 'Slack', 'FreshBooks Classic']\n",
      "\n",
      " -----------\n",
      "IOS Duplicates\n",
      "Number of duplicate apps 0\n",
      "\n",
      "\n",
      "Examples of duplicate apps []\n"
     ]
    }
   ],
   "source": [
    "print('Android Duplicates')\n",
    "find_duplicates(android)\n",
    "print('\\n','-----------')\n",
    "\n",
    "duplicate_apps = []\n",
    "unique_apps = []\n",
    "\n",
    "print('IOS Duplicates')\n",
    "find_duplicates(ios)"
   ]
  },
  {
   "cell_type": "markdown",
   "metadata": {},
   "source": [
    "We don't want to count certain apps more than once when we analyze data, so we need to remove the duplicate entries and keep only one entry per app. One thing we could do is remove the duplicate rows randomly, but we could probably find a better way.\n",
    "\n",
    "If you examine the rows we printed two cells above for the Instagram app, the main difference happens on the fourth position of each row, which corresponds to the number of reviews. The different numbers show that the data was collected at different times. We can use this to build a criterion for keeping rows. We won't remove rows randomly, but rather we'll keep the rows that have the highest number of reviews because the higher the number of reviews, the more reliable the ratings.\n",
    "\n",
    "To do that, we will:\n",
    "\n",
    "- Create a dictionary where each key is a unique app name, and the value is the highest number of reviews of that app\n",
    "- Use the dictionary to create a new data set, which will have only one entry per app (and we only select the apps with the highest number of reviews)"
   ]
  },
  {
   "cell_type": "markdown",
   "metadata": {},
   "source": [
    "# Removing Duplicates Part II"
   ]
  },
  {
   "cell_type": "code",
   "execution_count": 40,
   "metadata": {},
   "outputs": [
    {
     "name": "stdout",
     "output_type": "stream",
     "text": [
      "Expected Length after removing duplicates:  9659\n"
     ]
    }
   ],
   "source": [
    "print('Expected Length after removing duplicates: ',len(android) - 1181)"
   ]
  },
  {
   "cell_type": "code",
   "execution_count": 26,
   "metadata": {},
   "outputs": [
    {
     "name": "stdout",
     "output_type": "stream",
     "text": [
      "['App', 'Category', 'Rating', 'Reviews', 'Size', 'Installs', 'Type', 'Price', 'Content Rating', 'Genres', 'Last Updated', 'Current Ver', 'Android Ver']\n"
     ]
    }
   ],
   "source": [
    "print(android_header)"
   ]
  },
  {
   "cell_type": "code",
   "execution_count": 38,
   "metadata": {},
   "outputs": [],
   "source": [
    "reviews_max = {}\n",
    "for app in android:\n",
    "    name = app[0]\n",
    "    n_reviews = float(app[3])\n",
    "    if name in reviews_max and reviews_max[name] < n_reviews:\n",
    "        reviews_max[name] = n_reviews\n",
    "    elif name not in reviews_max:\n",
    "        reviews_max[name] = n_reviews"
   ]
  },
  {
   "cell_type": "code",
   "execution_count": 39,
   "metadata": {},
   "outputs": [
    {
     "name": "stdout",
     "output_type": "stream",
     "text": [
      "Expected length: 9659\n",
      "Actual length: 9659\n"
     ]
    }
   ],
   "source": [
    "print('Expected length:', len(android) - 1181)\n",
    "print('Actual length:', len(reviews_max))"
   ]
  },
  {
   "cell_type": "markdown",
   "metadata": {},
   "source": [
    "Now, let's use the reviews_max dictionary to remove the duplicates. For the duplicate cases, we'll only keep the entries with the highest number of reviews. In the code cell below:\n",
    "\n",
    "- We start by initializing two empty lists, android_clean and already_added.\n",
    "- We loop through the android data set, and for every iteration:\n",
    "    - We isolate the name of the app and the number of reviews.\n",
    "    - We add the current row (app) to the android_clean list, and the app name (name) to the already_cleaned list if:\n",
    "        - The number of reviews of the current app matches the number of reviews of that app as described in the reviews_max dictionary; and\n",
    "        -  The name of the app is not already in the already_added list. We need to add this supplementary condition to account for those cases where the highest number of reviews of a duplicate app is the same for more than one entry (for example, the Box app has three entries, and the number of reviews is the same). If we just check for reviews_max[name] == n_reviews, we'll still end up with duplicate entries for some apps."
   ]
  },
  {
   "cell_type": "code",
   "execution_count": 46,
   "metadata": {},
   "outputs": [],
   "source": [
    "android_clean = []\n",
    "already_added = []\n",
    "\n",
    "for app in android:\n",
    "    name = app[0]\n",
    "    n_reviews = float(app[3])\n",
    "    \n",
    "    if (reviews_max[name] ==n_reviews) and (name not in already_added):\n",
    "        android_clean.append(app)\n",
    "        already_added.append(name)"
   ]
  },
  {
   "cell_type": "markdown",
   "metadata": {},
   "source": [
    "Now let's quickly explore the new data set, and confirm that the number of rows is 9,659."
   ]
  },
  {
   "cell_type": "code",
   "execution_count": 48,
   "metadata": {},
   "outputs": [
    {
     "name": "stdout",
     "output_type": "stream",
     "text": [
      "['Photo Editor & Candy Camera & Grid & ScrapBook', 'ART_AND_DESIGN', '4.1', '159', '19M', '10,000+', 'Free', '0', 'Everyone', 'Art & Design', 'January 7, 2018', '1.0.0', '4.0.3 and up']\n",
      "\n",
      "\n",
      "['U Launcher Lite – FREE Live Cool Themes, Hide Apps', 'ART_AND_DESIGN', '4.7', '87510', '8.7M', '5,000,000+', 'Free', '0', 'Everyone', 'Art & Design', 'August 1, 2018', '1.2.4', '4.0.3 and up']\n",
      "\n",
      "\n",
      "['Sketch - Draw & Paint', 'ART_AND_DESIGN', '4.5', '215644', '25M', '50,000,000+', 'Free', '0', 'Teen', 'Art & Design', 'June 8, 2018', 'Varies with device', '4.2 and up']\n",
      "\n",
      "\n",
      "Number of rows:  9659\n",
      "Number of columns:  13\n"
     ]
    }
   ],
   "source": [
    "explore_data(android_clean, 0, 3, True)"
   ]
  },
  {
   "cell_type": "markdown",
   "metadata": {},
   "source": [
    "**We have 9659 rows, just as expected.**"
   ]
  },
  {
   "cell_type": "markdown",
   "metadata": {},
   "source": [
    "# Removing Non-English Apps"
   ]
  },
  {
   "cell_type": "markdown",
   "metadata": {},
   "source": [
    "### Part I"
   ]
  },
  {
   "cell_type": "markdown",
   "metadata": {},
   "source": [
    "If you explore the data sets enough, you'll notice the names of some of the apps suggest they are not directed toward an English-speaking audience."
   ]
  },
  {
   "cell_type": "code",
   "execution_count": 58,
   "metadata": {},
   "outputs": [
    {
     "name": "stdout",
     "output_type": "stream",
     "text": [
      "爱奇艺PPS -《欢乐颂2》电视剧热播\n",
      "【脱出ゲーム】絶対に最後までプレイしないで 〜謎解き＆ブロックパズル〜\n",
      "中国語 AQリスニング\n",
      "لعبة تقدر تربح DZ\n"
     ]
    }
   ],
   "source": [
    "print(ios[813][1])\n",
    "print(ios[6731][1])\n",
    "\n",
    "print(android_clean[4412][0])\n",
    "print(android_clean[7940][0])"
   ]
  },
  {
   "cell_type": "markdown",
   "metadata": {},
   "source": [
    "We're not interested in keeping these kind of apps, so we'll remove them. One way to go about this is to remove each app whose name contains a symbol that is not commonly used in English text — English text usually includes letters from the English alphabet, numbers composed of digits from 0 to 9, punctuation marks (., !, ?, ;, etc.), and other symbols (+, *, /, etc.).\n",
    "\n",
    "All these characters that are specific to English texts are encoded using the ASCII standard. Each ASCII character has a corresponding number between 0 and 127 associated with it, and we can take advantage of that to build a function that checks an app name and tells us whether it contains non-ASCII characters.\n",
    "\n",
    "We built this function below, and we use the built-in ord() function to find out the corresponding encoding number of each character."
   ]
  },
  {
   "cell_type": "code",
   "execution_count": 67,
   "metadata": {},
   "outputs": [
    {
     "name": "stdout",
     "output_type": "stream",
     "text": [
      "True\n",
      "False\n"
     ]
    }
   ],
   "source": [
    "def is_english(string):\n",
    "    \n",
    "    for character in string:\n",
    "        if ord(character) > 127:\n",
    "            return False\n",
    "    \n",
    "    return True\n",
    "\n",
    "print(is_english('Instagram'))\n",
    "print(is_english('爱奇艺PPS -《欢乐颂2》电视剧热播'))"
   ]
  },
  {
   "cell_type": "markdown",
   "metadata": {},
   "source": [
    "The function seems to work fine, but some English app names use emojis or other symbols (™, — (em dash), – (en dash), etc.) that fall outside of the ASCII range. Because of this, we'll remove useful apps if we use the function in its current form."
   ]
  },
  {
   "cell_type": "code",
   "execution_count": 69,
   "metadata": {},
   "outputs": [
    {
     "name": "stdout",
     "output_type": "stream",
     "text": [
      "False\n",
      "False\n",
      "8482\n",
      "128540\n"
     ]
    }
   ],
   "source": [
    "print(is_english('Docs To Go™ Free Office Suite'))\n",
    "print(is_english('Instachat 😜'))\n",
    "\n",
    "print(ord('™'))\n",
    "print(ord('😜'))"
   ]
  },
  {
   "cell_type": "markdown",
   "metadata": {},
   "source": [
    "### Part Two\n",
    "To minimize the impact of data loss, we'll only remove an app if its name has more than three non-ASCII characters:"
   ]
  },
  {
   "cell_type": "code",
   "execution_count": 70,
   "metadata": {},
   "outputs": [
    {
     "name": "stdout",
     "output_type": "stream",
     "text": [
      "True\n",
      "True\n",
      "False\n"
     ]
    }
   ],
   "source": [
    "def is_english(input_str):\n",
    "    non_ascii = 0\n",
    "    for character in input_str:\n",
    "        if ord(character) > 127:\n",
    "            non_ascii += 1\n",
    "    if non_ascii > 3:\n",
    "        return False \n",
    "    else:\n",
    "        return True\n",
    "print(is_english('Docs To Go™ Free Office Suite'))\n",
    "print(is_english('Instachat 😜'))\n",
    "print(is_english('爱奇艺PPS -《欢乐颂2》电视剧热播'))"
   ]
  },
  {
   "cell_type": "code",
   "execution_count": 82,
   "metadata": {},
   "outputs": [
    {
     "name": "stdout",
     "output_type": "stream",
     "text": [
      "ANDROID ENGLISH DATA\n",
      "['Photo Editor & Candy Camera & Grid & ScrapBook', 'ART_AND_DESIGN', '4.1', '159', '19M', '10,000+', 'Free', '0', 'Everyone', 'Art & Design', 'January 7, 2018', '1.0.0', '4.0.3 and up']\n",
      "\n",
      "\n",
      "['U Launcher Lite – FREE Live Cool Themes, Hide Apps', 'ART_AND_DESIGN', '4.7', '87510', '8.7M', '5,000,000+', 'Free', '0', 'Everyone', 'Art & Design', 'August 1, 2018', '1.2.4', '4.0.3 and up']\n",
      "\n",
      "\n",
      "['Sketch - Draw & Paint', 'ART_AND_DESIGN', '4.5', '215644', '25M', '50,000,000+', 'Free', '0', 'Teen', 'Art & Design', 'June 8, 2018', 'Varies with device', '4.2 and up']\n",
      "\n",
      "\n",
      "Number of rows:  9614\n",
      "Number of columns:  13\n",
      "\n",
      " IOS ENGLISH DATA\n",
      "['284882215', 'Facebook', '389879808', 'USD', '0.0', '2974676', '212', '3.5', '3.5', '95.0', '4+', 'Social Networking', '37', '1', '29', '1']\n",
      "\n",
      "\n",
      "['389801252', 'Instagram', '113954816', 'USD', '0.0', '2161558', '1289', '4.5', '4.0', '10.23', '12+', 'Photo & Video', '37', '0', '29', '1']\n",
      "\n",
      "\n",
      "['529479190', 'Clash of Clans', '116476928', 'USD', '0.0', '2130805', '579', '4.5', '4.5', '9.24.12', '9+', 'Games', '38', '5', '18', '1']\n",
      "\n",
      "\n",
      "Number of rows:  6183\n",
      "Number of columns:  16\n"
     ]
    }
   ],
   "source": [
    "android_english = []\n",
    "ios_english = []\n",
    "\n",
    "for app in android_clean:\n",
    "    name = app[0]\n",
    "    if is_english(name):\n",
    "        android_english.append(app)\n",
    "#print('Number of Android English Apps: ',len(android_english))\n",
    "\n",
    "\n",
    "for app in ios:\n",
    "    name = app[1]\n",
    "    if is_english(name):\n",
    "        ios_english.append(app)\n",
    "#print('Number of Android English Apps: ',len(ios_english))\n",
    "\n",
    "print('ANDROID ENGLISH DATA')\n",
    "explore_data(android_english, 0, 3, True)\n",
    "print('\\n IOS ENGLISH DATA')\n",
    "explore_data(ios_english, 0 , 3, True)"
   ]
  },
  {
   "cell_type": "markdown",
   "metadata": {},
   "source": [
    "So far in the data cleaning process, we:\n",
    "\n",
    "- Removed inaccurate data\n",
    "- Removed duplicate app entries\n",
    "- Removed non-English apps\n",
    "\n",
    "As we mentioned in the introduction, we only build apps that are free to download and install, and our main source of revenue consists of in-app ads. Our data sets contain both free and non-free apps; we'll need to isolate only the free apps for our analysis.\n",
    "\n",
    "Isolating the free apps will be our last step in the data cleaning process"
   ]
  },
  {
   "cell_type": "markdown",
   "metadata": {},
   "source": [
    "Identifying index for price for each appstore data set"
   ]
  },
  {
   "cell_type": "code",
   "execution_count": 89,
   "metadata": {
    "scrolled": true
   },
   "outputs": [
    {
     "name": "stdout",
     "output_type": "stream",
     "text": [
      "['App', 'Category', 'Rating', 'Reviews', 'Size', 'Installs', 'Type', 'Price', 'Content Rating', 'Genres', 'Last Updated', 'Current Ver', 'Android Ver']\n",
      "['id', 'track_name', 'size_bytes', 'currency', 'price', 'rating_count_tot', 'rating_count_ver', 'user_rating', 'user_rating_ver', 'ver', 'cont_rating', 'prime_genre', 'sup_devices.num', 'ipadSc_urls.num', 'lang.num', 'vpp_lic']\n"
     ]
    }
   ],
   "source": [
    "print(android_header)\n",
    "print(ios_header)"
   ]
  },
  {
   "cell_type": "code",
   "execution_count": 96,
   "metadata": {},
   "outputs": [
    {
     "name": "stdout",
     "output_type": "stream",
     "text": [
      "Number of Free Android English Apps:  8864\n",
      "\n",
      "Number of Free IOS English Apps:  3222\n"
     ]
    }
   ],
   "source": [
    "free_android_english = []\n",
    "free_ios_english = []\n",
    "\n",
    "for app in android_english:\n",
    "    price = app[7]\n",
    "    if price == '0':\n",
    "        free_android_english.append(app)\n",
    "        \n",
    "for app in ios_english:\n",
    "    price = app[4]\n",
    "    if price == '0.0':\n",
    "        free_ios_english.append(app)\n",
    "        \n",
    "print('Number of Free Android English Apps: ', len(free_android_english))\n",
    "print('\\nNumber of Free IOS English Apps: ', len(free_ios_english))\n"
   ]
  },
  {
   "cell_type": "markdown",
   "metadata": {},
   "source": [
    "# Most Common Apps by Genre: \n",
    "### Part One"
   ]
  },
  {
   "cell_type": "markdown",
   "metadata": {},
   "source": [
    "So far, we spent a good amount of time on cleaning data, and:\n",
    "\n",
    "- Removed inaccurate data\n",
    "- Removed duplicate app entries\n",
    "- Removed non-English apps\n",
    "- Isolated the free apps\n",
    "\n",
    "As we mentioned in the introduction, our aim is to determine the kinds of apps that are likely to attract more users because our revenue is highly influenced by the number of people using our apps.\n",
    "\n",
    "To minimize risks and overhead, our validation strategy for an app idea is comprised of three steps:\n",
    "\n",
    "1. Build a minimal Android version of the app, and add it to Google Play.\n",
    "2. If the app has a good response from users, we develop it further.\n",
    "3. If the app is profitable after six months, we build an iOS version of the app and add it to the App Store.\n",
    "\n",
    "Because our end goal is to add the app on both Google Play and the App Store, we need to find app profiles that are successful on both markets. For instance, a profile that works well for both markets might be a productivity app that makes use of gamification.\n",
    "\n",
    "Let's begin the analysis by getting a sense of what are the most common genres for each market. For this, we'll build a frequency table for the `prime_genre` column of the App Store data set, and the `Genres and Category` columns of the Google Play data set."
   ]
  },
  {
   "cell_type": "markdown",
   "metadata": {},
   "source": [
    "We'll build two functions we can use to analyze the frequency tables:\n",
    "\n",
    "- One function to generate frequency tables that show percentages\n",
    "- Another function we can use to display the percentages in a descending order"
   ]
  },
  {
   "cell_type": "code",
   "execution_count": 102,
   "metadata": {},
   "outputs": [],
   "source": [
    "def freq_table(dateset, index):\n",
    "    table = {}\n",
    "    total = 0\n",
    "    \n",
    "    for row in dateset:\n",
    "        total += 1\n",
    "        value = row[index]\n",
    "        if value in table:\n",
    "            table[value] += 1\n",
    "        else:\n",
    "            table[value] = 1\n",
    "            \n",
    "    table_percentages = {}\n",
    "    for key in table:\n",
    "        percentage = (table[key] / total) * 100\n",
    "        table_percentages[key] = round(percentage, 4)\n",
    "        \n",
    "    return table_percentages\n",
    "\n",
    "def display_table(dataset, index):\n",
    "    table = freq_table(dataset, index)\n",
    "    table_display = []\n",
    "    for key in table:\n",
    "        key_val_as_tuple = (table[key], key)\n",
    "        table_display.append(key_val_as_tuple)\n",
    "\n",
    "    table_sorted = sorted(table_display, reverse = True)\n",
    "    for entry in table_sorted:\n",
    "        print(entry[1], ':', entry[0])"
   ]
  },
  {
   "cell_type": "markdown",
   "metadata": {},
   "source": [
    "### Part 3\n",
    "We start by examining the frequency table for the prime_genre column of the App Store data set."
   ]
  },
  {
   "cell_type": "code",
   "execution_count": 104,
   "metadata": {},
   "outputs": [
    {
     "name": "stdout",
     "output_type": "stream",
     "text": [
      "Games : 58.1626\n",
      "Entertainment : 7.8833\n",
      "Photo & Video : 4.9659\n",
      "Education : 3.6623\n",
      "Social Networking : 3.2899\n",
      "Shopping : 2.6071\n",
      "Utilities : 2.514\n",
      "Sports : 2.1415\n",
      "Music : 2.0484\n",
      "Health & Fitness : 2.0174\n",
      "Productivity : 1.7381\n",
      "Lifestyle : 1.5829\n",
      "News : 1.3346\n",
      "Travel : 1.2415\n",
      "Finance : 1.1173\n",
      "Weather : 0.869\n",
      "Food & Drink : 0.807\n",
      "Reference : 0.5587\n",
      "Business : 0.5276\n",
      "Book : 0.4345\n",
      "Navigation : 0.1862\n",
      "Medical : 0.1862\n",
      "Catalogs : 0.1241\n"
     ]
    }
   ],
   "source": [
    "display_table(free_ios_english, -5)"
   ]
  },
  {
   "cell_type": "markdown",
   "metadata": {},
   "source": [
    "We can see that among the free English apps, more than a half (58.16%) are games. Entertainment apps are close to 8%, followed by photo and video apps, which are close to 5%. Only 3.66% of the apps are designed for education, followed by social networking apps which amount for 3.29% of the apps in our data set.\n",
    "\n",
    "The general impression is that App Store (at least the part containing free English apps) is dominated by apps that are designed for fun (games, entertainment, photo and video, social networking, sports, music, etc.), while apps with practical purposes (education, shopping, utilities, productivity, lifestyle, etc.) are more rare. However, the fact that fun apps are the most numerous doesn't also imply that they also have the greatest number of users — the demand might not be the same as the offer.\n",
    "\n",
    "Let's continue by examining the Genres and Category columns of the Google Play data set (two columns which seem to be related)."
   ]
  },
  {
   "cell_type": "code",
   "execution_count": 106,
   "metadata": {},
   "outputs": [
    {
     "name": "stdout",
     "output_type": "stream",
     "text": [
      "FAMILY : 18.9079\n",
      "GAME : 9.7247\n",
      "TOOLS : 8.4612\n",
      "BUSINESS : 4.5916\n",
      "LIFESTYLE : 3.9034\n",
      "PRODUCTIVITY : 3.8921\n",
      "FINANCE : 3.7004\n",
      "MEDICAL : 3.5311\n",
      "SPORTS : 3.3958\n",
      "PERSONALIZATION : 3.3168\n",
      "COMMUNICATION : 3.2378\n",
      "HEALTH_AND_FITNESS : 3.0799\n",
      "PHOTOGRAPHY : 2.9445\n",
      "NEWS_AND_MAGAZINES : 2.7978\n",
      "SOCIAL : 2.6625\n",
      "TRAVEL_AND_LOCAL : 2.3353\n",
      "SHOPPING : 2.245\n",
      "BOOKS_AND_REFERENCE : 2.1435\n",
      "DATING : 1.8615\n",
      "VIDEO_PLAYERS : 1.7938\n",
      "MAPS_AND_NAVIGATION : 1.3989\n",
      "FOOD_AND_DRINK : 1.241\n",
      "EDUCATION : 1.162\n",
      "ENTERTAINMENT : 0.9589\n",
      "LIBRARIES_AND_DEMO : 0.9364\n",
      "AUTO_AND_VEHICLES : 0.9251\n",
      "HOUSE_AND_HOME : 0.8236\n",
      "WEATHER : 0.801\n",
      "EVENTS : 0.7107\n",
      "PARENTING : 0.6543\n",
      "ART_AND_DESIGN : 0.6431\n",
      "COMICS : 0.6205\n",
      "BEAUTY : 0.5979\n"
     ]
    }
   ],
   "source": [
    "display_table(free_android_english, 1)"
   ]
  },
  {
   "cell_type": "markdown",
   "metadata": {},
   "source": [
    "The landscape seems significantly different on Google Play: there are not that many apps designed for fun, and it seems that a good number of apps are designed for practical purposes (family, tools, business, lifestyle, productivity, etc.). However, if we investigate this further, we can see that the family category (which accounts for almost 19% of the apps) means mostly games for kids.\n",
    "\n",
    "Even so, practical apps seem to have a better representation on Google Play compared to App Store. This picture is also confirmed by the frequency table we see for the Genres column:"
   ]
  },
  {
   "cell_type": "code",
   "execution_count": 107,
   "metadata": {},
   "outputs": [
    {
     "name": "stdout",
     "output_type": "stream",
     "text": [
      "Tools : 8.4499\n",
      "Entertainment : 6.0695\n",
      "Education : 5.3475\n",
      "Business : 4.5916\n",
      "Productivity : 3.8921\n",
      "Lifestyle : 3.8921\n",
      "Finance : 3.7004\n",
      "Medical : 3.5311\n",
      "Sports : 3.4634\n",
      "Personalization : 3.3168\n",
      "Communication : 3.2378\n",
      "Action : 3.1024\n",
      "Health & Fitness : 3.0799\n",
      "Photography : 2.9445\n",
      "News & Magazines : 2.7978\n",
      "Social : 2.6625\n",
      "Travel & Local : 2.324\n",
      "Shopping : 2.245\n",
      "Books & Reference : 2.1435\n",
      "Simulation : 2.042\n",
      "Dating : 1.8615\n",
      "Arcade : 1.8502\n",
      "Video Players & Editors : 1.7712\n",
      "Casual : 1.7599\n",
      "Maps & Navigation : 1.3989\n",
      "Food & Drink : 1.241\n",
      "Puzzle : 1.1282\n",
      "Racing : 0.9928\n",
      "Role Playing : 0.9364\n",
      "Libraries & Demo : 0.9364\n",
      "Auto & Vehicles : 0.9251\n",
      "Strategy : 0.9138\n",
      "House & Home : 0.8236\n",
      "Weather : 0.801\n",
      "Events : 0.7107\n",
      "Adventure : 0.6769\n",
      "Comics : 0.6092\n",
      "Beauty : 0.5979\n",
      "Art & Design : 0.5979\n",
      "Parenting : 0.4964\n",
      "Card : 0.4513\n",
      "Casino : 0.4287\n",
      "Trivia : 0.4174\n",
      "Educational;Education : 0.3949\n",
      "Board : 0.3836\n",
      "Educational : 0.3723\n",
      "Education;Education : 0.3384\n",
      "Word : 0.2595\n",
      "Casual;Pretend Play : 0.2369\n",
      "Music : 0.2031\n",
      "Racing;Action & Adventure : 0.1692\n",
      "Puzzle;Brain Games : 0.1692\n",
      "Entertainment;Music & Video : 0.1692\n",
      "Casual;Brain Games : 0.1354\n",
      "Casual;Action & Adventure : 0.1354\n",
      "Arcade;Action & Adventure : 0.1241\n",
      "Action;Action & Adventure : 0.1015\n",
      "Educational;Pretend Play : 0.0903\n",
      "Simulation;Action & Adventure : 0.079\n",
      "Parenting;Education : 0.079\n",
      "Entertainment;Brain Games : 0.079\n",
      "Board;Brain Games : 0.079\n",
      "Parenting;Music & Video : 0.0677\n",
      "Educational;Brain Games : 0.0677\n",
      "Casual;Creativity : 0.0677\n",
      "Art & Design;Creativity : 0.0677\n",
      "Education;Pretend Play : 0.0564\n",
      "Role Playing;Pretend Play : 0.0451\n",
      "Education;Creativity : 0.0451\n",
      "Role Playing;Action & Adventure : 0.0338\n",
      "Puzzle;Action & Adventure : 0.0338\n",
      "Entertainment;Creativity : 0.0338\n",
      "Entertainment;Action & Adventure : 0.0338\n",
      "Educational;Creativity : 0.0338\n",
      "Educational;Action & Adventure : 0.0338\n",
      "Education;Music & Video : 0.0338\n",
      "Education;Brain Games : 0.0338\n",
      "Education;Action & Adventure : 0.0338\n",
      "Adventure;Action & Adventure : 0.0338\n",
      "Video Players & Editors;Music & Video : 0.0226\n",
      "Sports;Action & Adventure : 0.0226\n",
      "Simulation;Pretend Play : 0.0226\n",
      "Puzzle;Creativity : 0.0226\n",
      "Music;Music & Video : 0.0226\n",
      "Entertainment;Pretend Play : 0.0226\n",
      "Casual;Education : 0.0226\n",
      "Board;Action & Adventure : 0.0226\n",
      "Video Players & Editors;Creativity : 0.0113\n",
      "Trivia;Education : 0.0113\n",
      "Travel & Local;Action & Adventure : 0.0113\n",
      "Tools;Education : 0.0113\n",
      "Strategy;Education : 0.0113\n",
      "Strategy;Creativity : 0.0113\n",
      "Strategy;Action & Adventure : 0.0113\n",
      "Simulation;Education : 0.0113\n",
      "Role Playing;Brain Games : 0.0113\n",
      "Racing;Pretend Play : 0.0113\n",
      "Puzzle;Education : 0.0113\n",
      "Parenting;Brain Games : 0.0113\n",
      "Music & Audio;Music & Video : 0.0113\n",
      "Lifestyle;Pretend Play : 0.0113\n",
      "Lifestyle;Education : 0.0113\n",
      "Health & Fitness;Education : 0.0113\n",
      "Health & Fitness;Action & Adventure : 0.0113\n",
      "Entertainment;Education : 0.0113\n",
      "Communication;Creativity : 0.0113\n",
      "Comics;Creativity : 0.0113\n",
      "Casual;Music & Video : 0.0113\n",
      "Card;Action & Adventure : 0.0113\n",
      "Books & Reference;Education : 0.0113\n",
      "Art & Design;Pretend Play : 0.0113\n",
      "Art & Design;Action & Adventure : 0.0113\n",
      "Arcade;Pretend Play : 0.0113\n",
      "Adventure;Education : 0.0113\n"
     ]
    }
   ],
   "source": [
    "display_table(free_android_english, -4)"
   ]
  },
  {
   "cell_type": "markdown",
   "metadata": {},
   "source": [
    "The difference between the Genres and the Category columns is not crystal clear, but one thing we can notice is that the Genres column is much more granular (it has more categories). We're only looking for the bigger picture at the moment, so we'll only work with the Category column moving forward.\n",
    "\n",
    "Up to this point, we found that the App Store is dominated by apps designed for fun, while Google Play shows a more balanced landscape of both practical and for-fun apps. Now we'd like to get an idea about the kind of apps that have most users.\n",
    "\n",
    "# Most Popular Apps by Genre on the App Store\n",
    "One way to find out what genres are the most popular (have the most users) is to calculate the average number of installs for each app genre. For the Google Play data set, we can find this information in the Installs column, but for the App Store data set this information is missing. As a workaround, we'll take the total number of user ratings as a proxy, which we can find in the rating_count_tot app.\n",
    "\n",
    "Below, we calculate the average number of user ratings per app genre on the App Store:"
   ]
  },
  {
   "cell_type": "code",
   "execution_count": 119,
   "metadata": {},
   "outputs": [
    {
     "name": "stdout",
     "output_type": "stream",
     "text": [
      "Business :  7491.12\n",
      "Social Networking :  71548.35\n",
      "Catalogs :  4004.0\n",
      "Entertainment :  14029.83\n",
      "Utilities :  18684.46\n",
      "Finance :  31467.94\n",
      "Music :  57326.53\n",
      "Shopping :  26919.69\n",
      "Sports :  23008.9\n",
      "Lifestyle :  16485.76\n",
      "Reference :  74942.11\n",
      "Health & Fitness :  23298.02\n",
      "Book :  39758.5\n",
      "News :  21248.02\n",
      "Education :  7003.98\n",
      "Productivity :  21028.41\n",
      "Travel :  28243.8\n",
      "Food & Drink :  33333.92\n",
      "Weather :  52279.89\n",
      "Games :  22788.67\n",
      "Photo & Video :  28441.54\n",
      "Medical :  612.0\n",
      "Navigation :  86090.33\n"
     ]
    }
   ],
   "source": [
    "ios_genres = freq_table(free_ios_english, -5)\n",
    "\n",
    "for genre in ios_genres:\n",
    "    total = 0\n",
    "    len_genre = 0\n",
    "    for app in free_ios_english:\n",
    "        genre_app = app[-5]\n",
    "        if genre_app == genre:\n",
    "            n_ratings = float(app[5])\n",
    "            total += n_ratings\n",
    "            len_genre += 1\n",
    "    avg_n_rating = total / len_genre\n",
    "    print(genre,': ',round(avg_n_rating,2))"
   ]
  },
  {
   "cell_type": "markdown",
   "metadata": {},
   "source": [
    "On average, navigation apps have the highest number of user reviews, but this figure is heavily influenced by Waze and Google Maps, which have close to half a million user reviews together:"
   ]
  },
  {
   "cell_type": "markdown",
   "metadata": {},
   "source": [
    "# Most Popular Apps by Genre on Google Play\n",
    "\n",
    "For the Google Play market, we actually have data about the number of installs, so we should be able to get a clearer picture about genre popularity. However, the install numbers don't seem precise enough — we can see that most values are open-ended (100+, 1,000+, 5,000+, etc.):"
   ]
  },
  {
   "cell_type": "code",
   "execution_count": 121,
   "metadata": {},
   "outputs": [
    {
     "name": "stdout",
     "output_type": "stream",
     "text": [
      "1,000,000+ : 15.7265\n",
      "100,000+ : 11.5523\n",
      "10,000,000+ : 10.5483\n",
      "10,000+ : 10.1986\n",
      "1,000+ : 8.3935\n",
      "100+ : 6.9156\n",
      "5,000,000+ : 6.8254\n",
      "500,000+ : 5.5618\n",
      "50,000+ : 4.7721\n",
      "5,000+ : 4.5126\n",
      "10+ : 3.5424\n",
      "500+ : 3.2491\n",
      "50,000,000+ : 2.3014\n",
      "100,000,000+ : 2.1322\n",
      "50+ : 1.9179\n",
      "5+ : 0.7897\n",
      "1+ : 0.5077\n",
      "500,000,000+ : 0.2708\n",
      "1,000,000,000+ : 0.2256\n",
      "0+ : 0.0451\n",
      "0 : 0.0113\n"
     ]
    }
   ],
   "source": [
    "display_table(free_android_english, 5)"
   ]
  },
  {
   "cell_type": "markdown",
   "metadata": {},
   "source": [
    "One problem with this data is that is not precise. For instance, we don't know whether an app with 100,000+ installs has 100,000 installs, 200,000, or 350,000. However, we don't need very precise data for our purposes — we only want to get an idea which app genres attract the most users, and we don't need perfect precision with respect to the number of users.\n",
    "\n",
    "We're going to leave the numbers as they are, which means that we'll consider that an app with 100,000+ installs has 100,000 installs, and an app with 1,000,000+ installs has 1,000,000 installs, and so on.\n",
    "\n",
    "To perform computations, however, we'll need to convert each install number to float — this means that we need to remove the commas and the plus characters, otherwise the conversion will fail and raise an error. We'll do this directly in the loop below, where we also compute the average number of installs for each genre (category)."
   ]
  },
  {
   "cell_type": "code",
   "execution_count": 123,
   "metadata": {},
   "outputs": [
    {
     "name": "stdout",
     "output_type": "stream",
     "text": [
      "NEWS_AND_MAGAZINES : 9549178.47\n",
      "BUSINESS : 1712290.15\n",
      "SHOPPING : 7036877.31\n",
      "AUTO_AND_VEHICLES : 647317.82\n",
      "PHOTOGRAPHY : 17840110.4\n",
      "BEAUTY : 513151.89\n",
      "FOOD_AND_DRINK : 1924897.74\n",
      "ENTERTAINMENT : 11640705.88\n",
      "WEATHER : 5074486.2\n",
      "SPORTS : 3638640.14\n",
      "PARENTING : 542603.62\n",
      "TRAVEL_AND_LOCAL : 13984077.71\n",
      "EVENTS : 253542.22\n",
      "MAPS_AND_NAVIGATION : 4056941.77\n",
      "BOOKS_AND_REFERENCE : 8767811.89\n",
      "VIDEO_PLAYERS : 24727872.45\n",
      "EDUCATION : 1833495.15\n",
      "MEDICAL : 120550.62\n",
      "HEALTH_AND_FITNESS : 4188821.99\n",
      "LIFESTYLE : 1437816.27\n",
      "FINANCE : 1387692.48\n",
      "DATING : 854028.83\n",
      "ART_AND_DESIGN : 1986335.09\n",
      "PERSONALIZATION : 5201482.61\n",
      "PRODUCTIVITY : 16787331.34\n",
      "FAMILY : 3695641.82\n",
      "LIBRARIES_AND_DEMO : 638503.73\n",
      "HOUSE_AND_HOME : 1331540.56\n",
      "TOOLS : 10801391.3\n",
      "COMMUNICATION : 38456119.17\n",
      "COMICS : 817657.27\n",
      "GAME : 15588015.6\n",
      "SOCIAL : 23253652.13\n"
     ]
    }
   ],
   "source": [
    "categories_android = freq_table(free_android_english, 1)\n",
    "\n",
    "for category in categories_android:\n",
    "    total = 0\n",
    "    len_category = 0\n",
    "    for app in free_android_english:\n",
    "        category_app = app[1]\n",
    "        if category_app == category:            \n",
    "            n_installs = app[5]\n",
    "            n_installs = n_installs.replace(',', '')\n",
    "            n_installs = n_installs.replace('+', '')\n",
    "            total += float(n_installs)\n",
    "            len_category += 1\n",
    "    avg_n_installs = total / len_category\n",
    "    print(category, ':', round(avg_n_installs,2))"
   ]
  },
  {
   "cell_type": "code",
   "execution_count": null,
   "metadata": {
    "collapsed": true
   },
   "outputs": [],
   "source": []
  }
 ],
 "metadata": {
  "kernelspec": {
   "display_name": "Python 3",
   "language": "python",
   "name": "python3"
  },
  "language_info": {
   "codemirror_mode": {
    "name": "ipython",
    "version": 3
   },
   "file_extension": ".py",
   "mimetype": "text/x-python",
   "name": "python",
   "nbconvert_exporter": "python",
   "pygments_lexer": "ipython3",
   "version": "3.7.3"
  }
 },
 "nbformat": 4,
 "nbformat_minor": 2
}
